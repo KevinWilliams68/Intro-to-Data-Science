{
 "cells": [
  {
   "cell_type": "code",
   "execution_count": 179,
   "metadata": {},
   "outputs": [],
   "source": [
    "#importing required libraries\n",
    "import numpy as np\n",
    "import pandas as pd\n",
    "from sklearn.model_selection import train_test_split"
   ]
  },
  {
   "cell_type": "code",
   "execution_count": 180,
   "metadata": {},
   "outputs": [
    {
     "data": {
      "text/html": [
       "<div>\n",
       "<style scoped>\n",
       "    .dataframe tbody tr th:only-of-type {\n",
       "        vertical-align: middle;\n",
       "    }\n",
       "\n",
       "    .dataframe tbody tr th {\n",
       "        vertical-align: top;\n",
       "    }\n",
       "\n",
       "    .dataframe thead th {\n",
       "        text-align: right;\n",
       "    }\n",
       "</style>\n",
       "<table border=\"1\" class=\"dataframe\">\n",
       "  <thead>\n",
       "    <tr style=\"text-align: right;\">\n",
       "      <th></th>\n",
       "      <th>Clump_Thickness</th>\n",
       "      <th>Uniformity_of_Cell_Size</th>\n",
       "      <th>Uniformity_of_Cell_Shape</th>\n",
       "      <th>Marginal_Adhesion</th>\n",
       "      <th>Single_Epithelial_Cell_Size</th>\n",
       "      <th>Bare_Nuclei</th>\n",
       "      <th>Bland_Chromatin</th>\n",
       "      <th>Normal_Nucleoli</th>\n",
       "      <th>Mitoses</th>\n",
       "      <th>Malignant_Cancer</th>\n",
       "    </tr>\n",
       "  </thead>\n",
       "  <tbody>\n",
       "    <tr>\n",
       "      <td>0</td>\n",
       "      <td>5</td>\n",
       "      <td>1</td>\n",
       "      <td>1</td>\n",
       "      <td>1</td>\n",
       "      <td>2</td>\n",
       "      <td>1</td>\n",
       "      <td>3</td>\n",
       "      <td>1</td>\n",
       "      <td>1</td>\n",
       "      <td>0</td>\n",
       "    </tr>\n",
       "    <tr>\n",
       "      <td>1</td>\n",
       "      <td>5</td>\n",
       "      <td>4</td>\n",
       "      <td>4</td>\n",
       "      <td>5</td>\n",
       "      <td>7</td>\n",
       "      <td>10</td>\n",
       "      <td>3</td>\n",
       "      <td>2</td>\n",
       "      <td>1</td>\n",
       "      <td>0</td>\n",
       "    </tr>\n",
       "    <tr>\n",
       "      <td>2</td>\n",
       "      <td>3</td>\n",
       "      <td>1</td>\n",
       "      <td>1</td>\n",
       "      <td>1</td>\n",
       "      <td>2</td>\n",
       "      <td>2</td>\n",
       "      <td>3</td>\n",
       "      <td>1</td>\n",
       "      <td>1</td>\n",
       "      <td>0</td>\n",
       "    </tr>\n",
       "    <tr>\n",
       "      <td>3</td>\n",
       "      <td>6</td>\n",
       "      <td>8</td>\n",
       "      <td>8</td>\n",
       "      <td>1</td>\n",
       "      <td>3</td>\n",
       "      <td>4</td>\n",
       "      <td>3</td>\n",
       "      <td>7</td>\n",
       "      <td>1</td>\n",
       "      <td>0</td>\n",
       "    </tr>\n",
       "    <tr>\n",
       "      <td>4</td>\n",
       "      <td>4</td>\n",
       "      <td>1</td>\n",
       "      <td>1</td>\n",
       "      <td>3</td>\n",
       "      <td>2</td>\n",
       "      <td>1</td>\n",
       "      <td>3</td>\n",
       "      <td>1</td>\n",
       "      <td>1</td>\n",
       "      <td>0</td>\n",
       "    </tr>\n",
       "    <tr>\n",
       "      <td>...</td>\n",
       "      <td>...</td>\n",
       "      <td>...</td>\n",
       "      <td>...</td>\n",
       "      <td>...</td>\n",
       "      <td>...</td>\n",
       "      <td>...</td>\n",
       "      <td>...</td>\n",
       "      <td>...</td>\n",
       "      <td>...</td>\n",
       "      <td>...</td>\n",
       "    </tr>\n",
       "    <tr>\n",
       "      <td>145</td>\n",
       "      <td>3</td>\n",
       "      <td>1</td>\n",
       "      <td>1</td>\n",
       "      <td>1</td>\n",
       "      <td>2</td>\n",
       "      <td>1</td>\n",
       "      <td>2</td>\n",
       "      <td>1</td>\n",
       "      <td>1</td>\n",
       "      <td>0</td>\n",
       "    </tr>\n",
       "    <tr>\n",
       "      <td>146</td>\n",
       "      <td>9</td>\n",
       "      <td>7</td>\n",
       "      <td>7</td>\n",
       "      <td>5</td>\n",
       "      <td>5</td>\n",
       "      <td>10</td>\n",
       "      <td>7</td>\n",
       "      <td>8</td>\n",
       "      <td>3</td>\n",
       "      <td>1</td>\n",
       "    </tr>\n",
       "    <tr>\n",
       "      <td>147</td>\n",
       "      <td>10</td>\n",
       "      <td>8</td>\n",
       "      <td>8</td>\n",
       "      <td>4</td>\n",
       "      <td>10</td>\n",
       "      <td>10</td>\n",
       "      <td>8</td>\n",
       "      <td>1</td>\n",
       "      <td>1</td>\n",
       "      <td>1</td>\n",
       "    </tr>\n",
       "    <tr>\n",
       "      <td>148</td>\n",
       "      <td>1</td>\n",
       "      <td>1</td>\n",
       "      <td>1</td>\n",
       "      <td>1</td>\n",
       "      <td>2</td>\n",
       "      <td>1</td>\n",
       "      <td>3</td>\n",
       "      <td>1</td>\n",
       "      <td>1</td>\n",
       "      <td>0</td>\n",
       "    </tr>\n",
       "    <tr>\n",
       "      <td>149</td>\n",
       "      <td>5</td>\n",
       "      <td>1</td>\n",
       "      <td>1</td>\n",
       "      <td>1</td>\n",
       "      <td>2</td>\n",
       "      <td>1</td>\n",
       "      <td>3</td>\n",
       "      <td>1</td>\n",
       "      <td>1</td>\n",
       "      <td>0</td>\n",
       "    </tr>\n",
       "  </tbody>\n",
       "</table>\n",
       "<p>150 rows × 10 columns</p>\n",
       "</div>"
      ],
      "text/plain": [
       "     Clump_Thickness  Uniformity_of_Cell_Size  Uniformity_of_Cell_Shape  \\\n",
       "0                  5                        1                         1   \n",
       "1                  5                        4                         4   \n",
       "2                  3                        1                         1   \n",
       "3                  6                        8                         8   \n",
       "4                  4                        1                         1   \n",
       "..               ...                      ...                       ...   \n",
       "145                3                        1                         1   \n",
       "146                9                        7                         7   \n",
       "147               10                        8                         8   \n",
       "148                1                        1                         1   \n",
       "149                5                        1                         1   \n",
       "\n",
       "     Marginal_Adhesion  Single_Epithelial_Cell_Size  Bare_Nuclei  \\\n",
       "0                    1                            2            1   \n",
       "1                    5                            7           10   \n",
       "2                    1                            2            2   \n",
       "3                    1                            3            4   \n",
       "4                    3                            2            1   \n",
       "..                 ...                          ...          ...   \n",
       "145                  1                            2            1   \n",
       "146                  5                            5           10   \n",
       "147                  4                           10           10   \n",
       "148                  1                            2            1   \n",
       "149                  1                            2            1   \n",
       "\n",
       "     Bland_Chromatin  Normal_Nucleoli  Mitoses  Malignant_Cancer  \n",
       "0                  3                1        1                 0  \n",
       "1                  3                2        1                 0  \n",
       "2                  3                1        1                 0  \n",
       "3                  3                7        1                 0  \n",
       "4                  3                1        1                 0  \n",
       "..               ...              ...      ...               ...  \n",
       "145                2                1        1                 0  \n",
       "146                7                8        3                 1  \n",
       "147                8                1        1                 1  \n",
       "148                3                1        1                 0  \n",
       "149                3                1        1                 0  \n",
       "\n",
       "[150 rows x 10 columns]"
      ]
     },
     "execution_count": 180,
     "metadata": {},
     "output_type": "execute_result"
    }
   ],
   "source": [
    "#reading and storing dataset into dataframe\n",
    "cancer_df  = pd.read_csv(\"https://github.com/mpourhoma/CS4661/raw/master/Cancer.csv\")\n",
    "df"
   ]
  },
  {
   "cell_type": "code",
   "execution_count": 181,
   "metadata": {},
   "outputs": [
    {
     "name": "stdout",
     "output_type": "stream",
     "text": [
      "     Clump_Thickness  Uniformity_of_Cell_Size  Uniformity_of_Cell_Shape  \\\n",
      "0                  5                        1                         1   \n",
      "1                  5                        4                         4   \n",
      "2                  3                        1                         1   \n",
      "3                  6                        8                         8   \n",
      "4                  4                        1                         1   \n",
      "..               ...                      ...                       ...   \n",
      "145                3                        1                         1   \n",
      "146                9                        7                         7   \n",
      "147               10                        8                         8   \n",
      "148                1                        1                         1   \n",
      "149                5                        1                         1   \n",
      "\n",
      "     Marginal_Adhesion  Single_Epithelial_Cell_Size  Bare_Nuclei  \\\n",
      "0                    1                            2            1   \n",
      "1                    5                            7           10   \n",
      "2                    1                            2            2   \n",
      "3                    1                            3            4   \n",
      "4                    3                            2            1   \n",
      "..                 ...                          ...          ...   \n",
      "145                  1                            2            1   \n",
      "146                  5                            5           10   \n",
      "147                  4                           10           10   \n",
      "148                  1                            2            1   \n",
      "149                  1                            2            1   \n",
      "\n",
      "     Bland_Chromatin  Normal_Nucleoli  Mitoses  \n",
      "0                  3                1        1  \n",
      "1                  3                2        1  \n",
      "2                  3                1        1  \n",
      "3                  3                7        1  \n",
      "4                  3                1        1  \n",
      "..               ...              ...      ...  \n",
      "145                2                1        1  \n",
      "146                7                8        3  \n",
      "147                8                1        1  \n",
      "148                3                1        1  \n",
      "149                3                1        1  \n",
      "\n",
      "[150 rows x 9 columns]\n",
      "0      0\n",
      "1      0\n",
      "2      0\n",
      "3      0\n",
      "4      0\n",
      "      ..\n",
      "145    0\n",
      "146    1\n",
      "147    1\n",
      "148    0\n",
      "149    0\n",
      "Name: Malignant_Cancer, Length: 150, dtype: int64\n"
     ]
    }
   ],
   "source": [
    "# create a python list of feature names that would like to pick from the dataset:\n",
    "feature = ['Clump_Thickness','Uniformity_of_Cell_Size','Uniformity_of_Cell_Shape',\n",
    "                'Marginal_Adhesion','Single_Epithelial_Cell_Size','Bare_Nuclei',\n",
    "                'Bland_Chromatin','Normal_Nucleoli','Mitoses']\n",
    "\n",
    "# use the above list to select the features from the original DataFrame\n",
    "X = cancer_df[feature] \n",
    "\n",
    "# select a Series of labels (the last column) from the DataFrame\n",
    "y = cancer_df['Malignant_Cancer']\n",
    "\n",
    "# print the first 5 rows\n",
    "print(X)\n",
    "print(y)"
   ]
  },
  {
   "cell_type": "code",
   "execution_count": 182,
   "metadata": {},
   "outputs": [
    {
     "name": "stdout",
     "output_type": "stream",
     "text": [
      "(97, 9)\n"
     ]
    }
   ],
   "source": [
    "# Randomly splitting the original dataset into training set and testing set:\n",
    "X_train, X_test, y_train, y_test = train_test_split(X, y, test_size=0.35, random_state=3)\n",
    "\n",
    "print(X_train.shape)"
   ]
  },
  {
   "cell_type": "code",
   "execution_count": 76,
   "metadata": {},
   "outputs": [],
   "source": [
    "#import DT classifier\n",
    "from sklearn.tree import DecisionTreeClassifier\n",
    "#\"my_DT\" is instantiated as an \"object\" of DecisionTreeClassifier \"class\".\n",
    "my_DT = DecisionTreeClassifier(random_state=3)"
   ]
  },
  {
   "cell_type": "code",
   "execution_count": 77,
   "metadata": {},
   "outputs": [
    {
     "data": {
      "text/plain": [
       "DecisionTreeClassifier(random_state=3)"
      ]
     },
     "execution_count": 77,
     "metadata": {},
     "output_type": "execute_result"
    }
   ],
   "source": [
    "#Training the DecisionTreeClassifier\n",
    "\n",
    "my_DT.fit(X_train, y_train)"
   ]
  },
  {
   "cell_type": "code",
   "execution_count": 78,
   "metadata": {},
   "outputs": [
    {
     "name": "stdout",
     "output_type": "stream",
     "text": [
      "[0 1 1 1 1 0 1 0 1 1 0 0 1 1 0 1 0 0 1 1 0 1 0 0 1 1 1 1 0 1 0 1 0 0 0 0 0\n",
      " 0 1 0 0 0 0 1 0 0 1 0 1 1 0 1 1]\n"
     ]
    }
   ],
   "source": [
    "# Testing on the testing set:\n",
    "\n",
    "y_predict = my_DT.predict(X_test)\n",
    "\n",
    "print(y_predict)"
   ]
  },
  {
   "cell_type": "code",
   "execution_count": 79,
   "metadata": {},
   "outputs": [
    {
     "name": "stdout",
     "output_type": "stream",
     "text": [
      "0.8301886792452831\n"
     ]
    }
   ],
   "source": [
    "#import accuracy library from sklearn\n",
    "from sklearn.metrics import accuracy_score\n",
    "#finding the accuracy of our model\n",
    "accuracy = accuracy_score(y_test, y_predict)\n",
    "#printing the accuracy\n",
    "print(accuracy)"
   ]
  },
  {
   "cell_type": "markdown",
   "metadata": {},
   "source": [
    "# DecisionTreeClassifier Accuracy is 83.016%"
   ]
  },
  {
   "cell_type": "code",
   "execution_count": 183,
   "metadata": {},
   "outputs": [
    {
     "name": "stdout",
     "output_type": "stream",
     "text": [
      "[1 1 1 1 1 0 1 1 1 1 0 1 1 1 0 1 0 0 1 1 0 1 0 0 1 1 1 1 0 1 1 1 0 1 0 0 0\n",
      " 0 1 0 0 0 1 1 0 0 1 1 1 1 0 1 1]\n",
      "[1 1 1 1 1 0 1 1 1 1 0 1 1 1 0 1 0 0 1 1 0 1 0 0 1 1 1 1 0 1 1 1 0 0 0 0 0\n",
      " 0 1 0 0 0 1 1 0 1 1 0 1 1 0 1 1]\n",
      "[1 1 0 1 1 0 1 0 1 1 0 1 0 1 0 1 0 0 1 1 0 1 0 0 1 1 1 1 0 1 0 1 0 0 0 0 0\n",
      " 0 1 0 0 0 1 0 0 0 1 1 1 1 0 1 1]\n",
      "[0 1 0 1 1 0 1 0 1 1 0 0 0 1 0 1 0 0 1 1 0 1 0 0 1 1 1 1 0 1 1 1 0 0 0 0 0\n",
      " 0 1 0 0 0 0 1 0 1 1 0 0 1 0 1 1]\n",
      "[1 1 1 1 1 0 1 0 1 1 0 1 1 1 0 1 0 1 1 1 0 1 0 0 1 1 1 1 0 1 0 1 0 0 0 0 0\n",
      " 0 1 0 0 0 1 1 0 0 1 1 1 1 0 1 1]\n",
      "[1 1 1 1 1 0 1 0 1 1 0 0 0 1 0 1 0 0 1 1 0 1 0 0 1 1 1 1 0 1 1 1 0 0 0 0 0\n",
      " 0 1 0 0 0 1 1 0 1 1 0 1 1 0 1 1]\n",
      "[1 1 1 1 1 0 1 0 1 1 0 1 1 1 0 1 0 1 1 1 0 1 0 0 1 1 1 1 0 1 0 1 0 0 0 0 0\n",
      " 0 1 0 0 0 1 1 0 0 1 1 1 1 0 1 1]\n",
      "[0 1 1 1 1 0 1 0 1 1 0 0 0 1 0 1 0 0 1 1 0 1 0 0 1 1 1 1 0 1 1 1 0 0 0 0 0\n",
      " 0 1 0 0 0 1 1 0 1 1 0 1 1 0 1 1]\n",
      "[1 1 0 1 1 0 1 0 1 1 0 1 0 1 0 1 0 0 0 1 0 1 0 0 1 1 1 1 0 1 0 0 0 0 0 0 0\n",
      " 0 1 0 0 0 1 0 0 0 1 1 1 1 0 1 1]\n",
      "[1 1 1 1 1 0 1 0 1 1 0 0 1 1 0 1 0 0 1 1 0 1 0 0 1 1 1 1 0 1 0 1 0 0 0 0 0\n",
      " 0 1 0 0 0 1 0 0 0 1 0 1 1 0 1 1]\n",
      "[1 1 1 1 1 0 1 0 1 1 0 0 1 1 0 1 0 0 1 1 0 1 0 0 1 1 1 1 1 1 1 1 0 0 0 0 0\n",
      " 0 1 0 0 0 1 1 0 1 1 0 1 1 1 1 1]\n",
      "[0 1 1 1 1 0 1 0 1 1 0 1 1 1 0 1 0 1 1 1 0 1 0 0 1 1 1 1 0 1 0 1 0 0 0 0 0\n",
      " 0 1 0 0 0 1 1 0 0 1 1 1 1 0 1 1]\n",
      "[0 1 0 1 1 0 1 1 1 1 0 1 1 1 0 1 0 0 1 1 0 1 0 0 1 1 1 1 0 1 1 1 0 0 0 0 0\n",
      " 0 1 0 0 0 0 0 0 0 1 0 1 1 0 1 1]\n",
      "[0 1 1 1 1 0 1 0 0 1 0 1 0 0 0 1 0 1 1 1 0 1 0 0 1 1 1 1 0 1 0 1 0 0 0 0 0\n",
      " 0 1 0 0 0 0 1 0 0 1 0 0 1 0 1 0]\n",
      "[1 1 1 1 1 0 1 0 1 1 0 0 0 1 0 1 0 0 1 1 0 1 0 0 1 1 1 1 0 1 1 1 0 0 0 0 0\n",
      " 0 1 0 0 0 1 1 0 1 1 0 1 1 0 1 1]\n",
      "[1 1 1 1 1 0 1 0 1 1 0 1 1 1 0 1 0 0 1 1 0 1 0 0 1 1 1 1 0 0 0 1 0 0 0 0 0\n",
      " 0 1 0 0 0 1 1 0 0 1 1 1 1 0 1 1]\n",
      "[1 1 0 1 1 0 1 0 1 1 0 1 0 1 0 1 0 0 1 1 0 1 0 0 1 1 1 1 0 1 1 1 0 0 0 0 0\n",
      " 0 1 0 0 0 1 0 0 1 1 1 1 1 1 1 1]\n",
      "[1 1 1 1 1 0 1 1 1 1 0 1 1 1 0 1 0 0 1 1 0 1 0 0 1 1 1 1 0 1 1 1 0 0 0 0 0\n",
      " 0 1 0 0 0 0 1 0 0 1 0 1 1 0 1 1]\n",
      "[1 1 1 1 1 0 1 0 1 1 0 1 1 1 0 1 0 0 1 1 0 1 0 0 1 1 1 1 0 1 0 1 0 0 0 0 0\n",
      " 0 1 0 0 0 1 1 0 0 1 1 1 1 0 1 1]\n"
     ]
    }
   ],
   "source": [
    "#import resample library\n",
    "from sklearn.utils import resample\n",
    "\n",
    "bootstarp_size = int(0.8 * X_train.shape[0])\n",
    "#creating empty list\n",
    "Tsamples = []\n",
    "\n",
    "for i in range(19):\n",
    "    X,y =  resample(X_train,y_train, n_samples = bootstarp_size, random_state = i, replace = True)\n",
    "    Base_DecisionTree = DecisionTreeClassifier(random_state=3)\n",
    "    Base_DecisionTree.fit(X,y)\n",
    "    y_predict1 = Base_DecisionTree.predict(X_test)\n",
    "    Tsamples.append(y_predict1)\n",
    "\n",
    "for i in Tsamples:\n",
    "    print(i)"
   ]
  },
  {
   "cell_type": "code",
   "execution_count": 192,
   "metadata": {},
   "outputs": [
    {
     "name": "stdout",
     "output_type": "stream",
     "text": [
      "[1, 1, 1, 1, 1, 0, 1, 0, 1, 1, 0, 1, 1, 1, 0, 1, 0, 0, 1, 1, 0, 1, 0, 0, 1, 1, 1, 1, 0, 1, 1, 1, 0, 0, 0, 0, 0, 0, 1, 0, 0, 0, 1, 1, 0, 0, 1, 0, 1, 1, 0, 1, 1]\n"
     ]
    }
   ],
   "source": [
    "#creating empty list for final decision on rows of dataframe\n",
    "vote = []\n",
    "#creating a transposed dataframe to iterate through\n",
    "#.values is a numpy representation of the DataFrame\n",
    "vote_list = pd.DataFrame(Tsamples).T.values\n",
    "for i in vote_list:\n",
    "    sum = 0\n",
    "    for x in i:\n",
    "        if x == 1:\n",
    "            sum += 1\n",
    "    if sum > 9:\n",
    "        vote.append(1)\n",
    "    else:\n",
    "        vote.append(0)\n",
    "print(vote)        "
   ]
  },
  {
   "cell_type": "code",
   "execution_count": 194,
   "metadata": {},
   "outputs": [
    {
     "name": "stdout",
     "output_type": "stream",
     "text": [
      "0.9056603773584906\n"
     ]
    }
   ],
   "source": [
    "#import accuracy library\n",
    "from sklearn.metrics import accuracy_score\n",
    "#accuracy of voting list\n",
    "cancer_accuracy = accuracy_score(y_test, vote)\n",
    "print(cancer_accuracy)"
   ]
  },
  {
   "cell_type": "markdown",
   "metadata": {},
   "source": [
    "# Accuracy for this method is 90.566%"
   ]
  },
  {
   "cell_type": "code",
   "execution_count": 197,
   "metadata": {},
   "outputs": [
    {
     "name": "stdout",
     "output_type": "stream",
     "text": [
      "0.9245283018867925\n"
     ]
    }
   ],
   "source": [
    "#importing RandomForest Classifier\n",
    "from sklearn.ensemble import RandomForestClassifier\n",
    "\n",
    "my_RF = RandomForestClassifier(n_estimators=19, bootstrap = True, random_state=3)\n",
    "#training data to RF\n",
    "my_RF.fit(X_train,y_train)\n",
    "#testing data to RF\n",
    "y_predict_RF = my_RF.predict(X_test)\n",
    "#accuracy score\n",
    "RF_Score = accuracy_score(y_test,y_predict_RF)\n",
    "print(RF_Score)"
   ]
  },
  {
   "cell_type": "markdown",
   "metadata": {},
   "source": [
    "# Accuracy for RandomForest is 92.452%"
   ]
  },
  {
   "cell_type": "code",
   "execution_count": null,
   "metadata": {},
   "outputs": [],
   "source": []
  }
 ],
 "metadata": {
  "kernelspec": {
   "display_name": "Python 3",
   "language": "python",
   "name": "python3"
  },
  "language_info": {
   "codemirror_mode": {
    "name": "ipython",
    "version": 3
   },
   "file_extension": ".py",
   "mimetype": "text/x-python",
   "name": "python",
   "nbconvert_exporter": "python",
   "pygments_lexer": "ipython3",
   "version": "3.7.4"
  }
 },
 "nbformat": 4,
 "nbformat_minor": 2
}
