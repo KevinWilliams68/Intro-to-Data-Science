{
 "cells": [
  {
   "cell_type": "code",
   "execution_count": 22,
   "metadata": {},
   "outputs": [
    {
     "name": "stdout",
     "output_type": "stream",
     "text": [
      "Cross validation accuracy for Knn:  0.828472436094857\n",
      "AUC is:  0.9872387467665283\n"
     ]
    },
    {
     "data": {
      "image/png": "[encoded data removed]",
      "text/plain": [
       "<Figure size 432x288 with 1 Axes>"
      ]
     },
     "metadata": {
      "needs_background": "light"
     },
     "output_type": "display_data"
    }
   ],
   "source": [
    "\n",
    "from sklearn.neighbors import KNeighborsClassifier\n",
    "from sklearn.model_selection import train_test_split\n",
    "from sklearn.metrics import accuracy_score\n",
    "from sklearn.model_selection import cross_val_score\n",
    "from sklearn import metrics\n",
    "import matplotlib.pyplot as plt\n",
    "\n",
    "\n",
    "\n",
    "\n",
    "\n",
    "\n",
    "import numpy as np\n",
    "import pandas as pd\n",
    "\n",
    "sat_df = pd.read_csv(\n",
    "    'https://raw.githubusercontent.com/christianesqueda/temprepo/secondary/satisfaction_2015.xlsx%20-%20satisfaction_v2.csv')\n",
    "\n",
    "\n",
    "sat_df = pd.concat([sat_df,pd.get_dummies(sat_df['Gender'], prefix='Gender')],axis=1)\n",
    "sat_df.drop(['Gender'],axis=1, inplace=True)\n",
    "\n",
    "sat_df = pd.concat([sat_df,pd.get_dummies(sat_df['Type of Travel'], prefix='Travel_type')],axis=1)\n",
    "sat_df.drop(['Type of Travel'],axis=1, inplace=True)\n",
    "\n",
    "sat_df = pd.concat([sat_df,pd.get_dummies(sat_df['Class'], prefix='Class')],axis=1)\n",
    "sat_df.drop(['Class'],axis=1, inplace=True)\n",
    "\n",
    "\n",
    "feature_cols = ['Gender_Female', 'Gender_Male', 'Travel_type_Business travel',\n",
    "                'Travel_type_Personal Travel', 'Age', 'Food and drink',\n",
    "                'Seat comfort', 'Online boarding', 'Inflight wifi service', \n",
    "                'Cleanliness', 'Inflight entertainment', 'Gate location', \n",
    "                'Ease of Online booking', 'Class_Business', 'Class_Eco', 'Class_Eco Plus' ,'Gate location' ]\n",
    "\n",
    "X = sat_df[feature_cols]\n",
    "X = np.nan_to_num(X)\n",
    "\n",
    "y = sat_df['satisfaction_v2']\n",
    "\n",
    "\n",
    "k = 7\n",
    "my_knn = KNeighborsClassifier(n_neighbors=k)\n",
    "my_knn.fit(X, y)\n",
    "\n",
    "\n",
    "\n",
    "X_train, X_test, y_train, y_test = train_test_split(X, y, test_size=0.3, random_state=1)\n",
    "\n",
    "accuracy_list = cross_val_score(my_knn, X, y, cv=10, scoring='accuracy')\n",
    "\n",
    "accuracy_cv = accuracy_list.mean()\n",
    "\n",
    "print('Cross validation accuracy for Knn: ', accuracy_cv)\n",
    "\n",
    "# Training ONLY on the training set:\n",
    "# my_knn.fit(X_train, y_train)\n",
    "\n",
    "# # Testing on the testing set:\n",
    "# y_predict = my_knn.predict(X_test)\n",
    "\n",
    "\n",
    "\n",
    "\n",
    "# accuracy = accuracy_score(y_test, y_predict)\n",
    "# print('KNN accuracy: ', accuracy)\n",
    "\n",
    "y_predict_prob_knn = my_knn.predict_proba(X_test)\n",
    "\n",
    "\n",
    "fpr, tpr, thresholds = metrics.roc_curve(y_test, y_predict_prob_knn[:,1], pos_label='satisfied')\n",
    "\n",
    "\n",
    "AUC = metrics.auc(fpr, tpr)\n",
    "print('AUC is: ', AUC)\n",
    "\n",
    "# ROC\n",
    "%matplotlib inline\n",
    "\n",
    "plt.figure()\n",
    "\n",
    "# Roc Curve:\n",
    "plt.plot(fpr, tpr, color='red', lw=2, \n",
    "         label='KNN ROC Curve (area = %0.2f)' % AUC)\n",
    "\n",
    "# Random Guess line:\n",
    "plt.plot([0, 1], [0, 1], color='blue', lw=1, linestyle='--')\n",
    "\n",
    "# Defining The Range of X-Axis and Y-Axis:\n",
    "plt.xlim([-0.005, 1.005])\n",
    "plt.ylim([0.0, 1.01])\n",
    "\n",
    "# Labels, Title, Legend:\n",
    "plt.xlabel('False Positive Rate')\n",
    "plt.ylabel('True Positive Rate')\n",
    "plt.title('Receiver operating characteristic')\n",
    "plt.legend(loc=\"lower right\")\n",
    "\n",
    "plt.show()\n",
    "\n"
   ]
  },
  {
   "cell_type": "code",
   "execution_count": null,
   "metadata": {},
   "outputs": [],
   "source": []
  }
 ],
 "metadata": {
  "kernelspec": {
   "display_name": "Python 3",
   "language": "python",
   "name": "python3"
  },
  "language_info": {
   "codemirror_mode": {
    "name": "ipython",
    "version": 3
   },
   "file_extension": ".py",
   "mimetype": "text/x-python",
   "name": "python",
   "nbconvert_exporter": "python",
   "pygments_lexer": "ipython3",
   "version": "3.8.5"
  }
 },
 "nbformat": 4,
 "nbformat_minor": 4
}
