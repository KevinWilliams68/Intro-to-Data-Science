{
 "cells": [
  {
   "cell_type": "code",
   "execution_count": 60,
   "metadata": {},
   "outputs": [],
   "source": [
    "import pandas as pd\n",
    "import numpy as np\n",
    "import matplotlib.image as mpimg\n",
    "import matplotlib.pyplot as plt\n",
    "from PIL import Image\n",
    "from sklearn.ensemble import RandomForestClassifier\n",
    "from sklearn.model_selection import train_test_split\n",
    "from sklearn.metrics import accuracy_score"
   ]
  },
  {
   "cell_type": "code",
   "execution_count": 61,
   "metadata": {},
   "outputs": [
    {
     "data": {
      "text/html": [
       "<div>\n",
       "<style scoped>\n",
       "    .dataframe tbody tr th:only-of-type {\n",
       "        vertical-align: middle;\n",
       "    }\n",
       "\n",
       "    .dataframe tbody tr th {\n",
       "        vertical-align: top;\n",
       "    }\n",
       "\n",
       "    .dataframe thead th {\n",
       "        text-align: right;\n",
       "    }\n",
       "</style>\n",
       "<table border=\"1\" class=\"dataframe\">\n",
       "  <thead>\n",
       "    <tr style=\"text-align: right;\">\n",
       "      <th></th>\n",
       "      <th>name of the file</th>\n",
       "      <th>digit label</th>\n",
       "    </tr>\n",
       "  </thead>\n",
       "  <tbody>\n",
       "    <tr>\n",
       "      <td>0</td>\n",
       "      <td>0</td>\n",
       "      <td>0</td>\n",
       "    </tr>\n",
       "    <tr>\n",
       "      <td>1</td>\n",
       "      <td>1</td>\n",
       "      <td>1</td>\n",
       "    </tr>\n",
       "    <tr>\n",
       "      <td>2</td>\n",
       "      <td>2</td>\n",
       "      <td>2</td>\n",
       "    </tr>\n",
       "    <tr>\n",
       "      <td>3</td>\n",
       "      <td>3</td>\n",
       "      <td>3</td>\n",
       "    </tr>\n",
       "    <tr>\n",
       "      <td>4</td>\n",
       "      <td>4</td>\n",
       "      <td>4</td>\n",
       "    </tr>\n",
       "    <tr>\n",
       "      <td>...</td>\n",
       "      <td>...</td>\n",
       "      <td>...</td>\n",
       "    </tr>\n",
       "    <tr>\n",
       "      <td>1792</td>\n",
       "      <td>1792</td>\n",
       "      <td>9</td>\n",
       "    </tr>\n",
       "    <tr>\n",
       "      <td>1793</td>\n",
       "      <td>1793</td>\n",
       "      <td>0</td>\n",
       "    </tr>\n",
       "    <tr>\n",
       "      <td>1794</td>\n",
       "      <td>1794</td>\n",
       "      <td>8</td>\n",
       "    </tr>\n",
       "    <tr>\n",
       "      <td>1795</td>\n",
       "      <td>1795</td>\n",
       "      <td>9</td>\n",
       "    </tr>\n",
       "    <tr>\n",
       "      <td>1796</td>\n",
       "      <td>1796</td>\n",
       "      <td>8</td>\n",
       "    </tr>\n",
       "  </tbody>\n",
       "</table>\n",
       "<p>1797 rows × 2 columns</p>\n",
       "</div>"
      ],
      "text/plain": [
       "      name of the file  digit label\n",
       "0                    0            0\n",
       "1                    1            1\n",
       "2                    2            2\n",
       "3                    3            3\n",
       "4                    4            4\n",
       "...                ...          ...\n",
       "1792              1792            9\n",
       "1793              1793            0\n",
       "1794              1794            8\n",
       "1795              1795            9\n",
       "1796              1796            8\n",
       "\n",
       "[1797 rows x 2 columns]"
      ]
     },
     "execution_count": 61,
     "metadata": {},
     "output_type": "execute_result"
    }
   ],
   "source": [
    "df = pd.read_csv('/Users/Kevin/Desktop/label.csv')\n",
    "df"
   ]
  },
  {
   "cell_type": "code",
   "execution_count": 62,
   "metadata": {},
   "outputs": [
    {
     "data": {
      "text/plain": [
       "1797"
      ]
     },
     "execution_count": 62,
     "metadata": {},
     "output_type": "execute_result"
    }
   ],
   "source": [
    "df.shape[0]"
   ]
  },
  {
   "cell_type": "markdown",
   "metadata": {},
   "source": [
    "# PART B"
   ]
  },
  {
   "cell_type": "code",
   "execution_count": 71,
   "metadata": {},
   "outputs": [
    {
     "name": "stdout",
     "output_type": "stream",
     "text": [
      "      number of pixels 0  number of pixels 1  number of pixels 2  \\\n",
      "0                      0                   2                  88   \n",
      "1                      0                   0                  11   \n",
      "2                      0                   0                   5   \n",
      "3                      6                   0                 108   \n",
      "4                      0                   6                   0   \n",
      "...                  ...                 ...                 ...   \n",
      "1792                   5                   0                  69   \n",
      "1793                   6                   0                  96   \n",
      "1794                   5                   0                  22   \n",
      "1795                   7                   0                  22   \n",
      "1796                   0                  17                 155   \n",
      "\n",
      "      number of pixels 3  number of pixels 4  number of pixels 5  \\\n",
      "0                    217                 158                  21   \n",
      "1                    187                 210                  78   \n",
      "2                     59                 240                 199   \n",
      "3                    255                 213                  13   \n",
      "4                     34                 160                   7   \n",
      "...                  ...                 ...                 ...   \n",
      "1792                 160                 198                 102   \n",
      "1793                 255                 206                 164   \n",
      "1794                 172                 242                  20   \n",
      "1795                 158                 114                   0   \n",
      "1796                 236                 123                  20   \n",
      "\n",
      "      number of pixels 6  number of pixels 7  number of pixels 8  \\\n",
      "0                      0                   0                  16   \n",
      "1                      5                   0                  13   \n",
      "2                      2                   0                   5   \n",
      "3                     10                   0                   2   \n",
      "4                      7                   0                   5   \n",
      "...                  ...                 ...                 ...   \n",
      "1792                   6                   0                   0   \n",
      "1793                  22                   0                   3   \n",
      "1794                   0                   0                   0   \n",
      "1795                   8                   2                   0   \n",
      "1796                   0                   4                  20   \n",
      "\n",
      "      number of pixels 9  ...  number of pixels 54  number of pixels 55  \\\n",
      "0                      0  ...                    4                    0   \n",
      "1                      5  ...                    0                    0   \n",
      "2                      0  ...                   92                    0   \n",
      "3                    131  ...                  168                    1   \n",
      "4                      0  ...                    7                    0   \n",
      "...                  ...  ...                  ...                  ...   \n",
      "1792                  24  ...                   61                    1   \n",
      "1793                   0  ...                    8                    3   \n",
      "1794                   1  ...                    0                   16   \n",
      "1795                   6  ...                   39                    0   \n",
      "1796                  10  ...                  130                    8   \n",
      "\n",
      "      number of pixels 56  number of pixels 57  number of pixels 58  \\\n",
      "0                       4                    3                   87   \n",
      "1                       0                    0                    0   \n",
      "2                       0                   11                    0   \n",
      "3                       0                    0                  118   \n",
      "4                       0                    0                    2   \n",
      "...                   ...                  ...                  ...   \n",
      "1792                    3                    1                   39   \n",
      "1793                    9                    0                   92   \n",
      "1794                    3                    0                   27   \n",
      "1795                   12                    0                   83   \n",
      "1796                    0                   17                  137   \n",
      "\n",
      "      number of pixels 59  number of pixels 60  number of pixels 61  \\\n",
      "0                     228                  182                    0   \n",
      "1                     172                  251                  157   \n",
      "2                      54                  173                  255   \n",
      "3                     217                  226                  159   \n",
      "4                      42                  250                   51   \n",
      "...                   ...                  ...                  ...   \n",
      "1792                  219                  246                  130   \n",
      "1793                  246                  227                   90   \n",
      "1794                  152                  211                   87   \n",
      "1795                  185                  255                  196   \n",
      "1796                  184                  214                  198   \n",
      "\n",
      "      number of pixels 62  number of pixels 63  \n",
      "0                       9                    2  \n",
      "1                       0                   12  \n",
      "2                     138                    0  \n",
      "3                       0                    3  \n",
      "4                       0                    4  \n",
      "...                   ...                  ...  \n",
      "1792                   13                    0  \n",
      "1793                    0                    1  \n",
      "1794                   21                    0  \n",
      "1795                    0                    7  \n",
      "1796                   26                    0  \n",
      "\n",
      "[1797 rows x 64 columns]\n",
      "0       0\n",
      "1       1\n",
      "2       2\n",
      "3       3\n",
      "4       4\n",
      "       ..\n",
      "1792    9\n",
      "1793    0\n",
      "1794    8\n",
      "1795    9\n",
      "1796    8\n",
      "Name: digit label, Length: 1797, dtype: int64\n"
     ]
    }
   ],
   "source": [
    "%matplotlib inline\n",
    "\n",
    "images = []\n",
    "feature_cols = []\n",
    "\n",
    "for i in range(df.shape[0]):\n",
    "    path = Image.open('/Users/Kevin/Desktop/Digit/' + str(i) + '.jpg')\n",
    "    pixels = np.asarray(path).flatten()\n",
    "    images.append(pixels) \n",
    "\n",
    "for i in range(64):\n",
    "    feature_cols.append(\"number of pixels \" + str(i))\n",
    "    \n",
    "image_df = pd.DataFrame(images, columns = feature_cols)\n",
    "\n",
    "X = image_df[feature_cols]\n",
    "\n",
    "y = df['digit label']\n",
    "\n",
    "print(X)\n",
    "print(y)"
   ]
  },
  {
   "cell_type": "markdown",
   "metadata": {},
   "source": [
    "# PART C"
   ]
  },
  {
   "cell_type": "code",
   "execution_count": 72,
   "metadata": {},
   "outputs": [],
   "source": [
    "# Randomly splitting the original dataset into training set and testing set:\n",
    "X_train, X_test, y_train, y_test = train_test_split(X, y, test_size=0.1, random_state=2)"
   ]
  },
  {
   "cell_type": "markdown",
   "metadata": {},
   "source": [
    "# PART D"
   ]
  },
  {
   "cell_type": "code",
   "execution_count": 73,
   "metadata": {},
   "outputs": [
    {
     "name": "stdout",
     "output_type": "stream",
     "text": [
      "0.9277777777777778\n"
     ]
    }
   ],
   "source": [
    "my_RandomForest = RandomForestClassifier(n_estimators = 19, bootstrap = True, random_state = 2)\n",
    "\n",
    "my_RandomForest.fit(X_train, y_train)\n",
    "\n",
    "y_predict = my_RandomForest.predict(X_test)\n",
    "\n",
    "RF_Score = accuracy_score(y_test,y_predict)\n",
    "print(RF_Score)"
   ]
  },
  {
   "cell_type": "markdown",
   "metadata": {},
   "source": [
    "# RandomForest Accuracy is 92.7%"
   ]
  },
  {
   "cell_type": "markdown",
   "metadata": {},
   "source": [
    "# PART E"
   ]
  },
  {
   "cell_type": "code",
   "execution_count": 109,
   "metadata": {},
   "outputs": [
    {
     "name": "stdout",
     "output_type": "stream",
     "text": [
      "[1660, 1611, 123, 1582, 492, 1603, 1628, 1605, 794, 37, 69, 1468, 1573]\n"
     ]
    }
   ],
   "source": [
    "#y_test = np.asarray(y_test)\n",
    "misc = np.where(y_test != y_predict)[0]\n",
    "index = []\n",
    "xSize = X_test.index\n",
    "for i in range(len(misc)):\n",
    "    index.append(xSize[misc[i]])\n",
    "    \n",
    "print(index)    "
   ]
  },
  {
   "cell_type": "code",
   "execution_count": 137,
   "metadata": {},
   "outputs": [
    {
     "data": {
      "image/png": "[encoded data removed]",
      "text/plain": [
       "<Figure size 1080x1080 with 13 Axes>"
      ]
     },
     "metadata": {
      "needs_background": "light"
     },
     "output_type": "display_data"
    }
   ],
   "source": [
    "\n",
    "plt.figure(figsize=(15,15))\n",
    "\n",
    "for i in range(len(index)):\n",
    "        path = '/Users/Kevin/Desktop/Digit/' + str(index[i]) + '.jpg'\n",
    "        img = mpimg.imread(path)\n",
    "        plt.subplot(5,5,i + 1)\n",
    "        plt.imshow(img, cmap=plt.cm.gray_r, interpolation='nearest') \n",
    "        \n",
    "\n",
    "plt.show()"
   ]
  },
  {
   "cell_type": "code",
   "execution_count": null,
   "metadata": {},
   "outputs": [],
   "source": []
  }
 ],
 "metadata": {
  "kernelspec": {
   "display_name": "Python 3",
   "language": "python",
   "name": "python3"
  },
  "language_info": {
   "codemirror_mode": {
    "name": "ipython",
    "version": 3
   },
   "file_extension": ".py",
   "mimetype": "text/x-python",
   "name": "python",
   "nbconvert_exporter": "python",
   "pygments_lexer": "ipython3",
   "version": "3.7.4"
  }
 },
 "nbformat": 4,
 "nbformat_minor": 2
}
